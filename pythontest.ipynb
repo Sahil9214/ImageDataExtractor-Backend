{
 "cells": [
  {
   "cell_type": "code",
   "execution_count": 1,
   "metadata": {},
   "outputs": [],
   "source": [
    "import pandas as pd"
   ]
  },
  {
   "cell_type": "code",
   "execution_count": 5,
   "metadata": {},
   "outputs": [
    {
     "name": "stdout",
     "output_type": "stream",
     "text": [
      "Collecting labelme\n",
      "  Using cached labelme-5.5.0-py3-none-any.whl\n",
      "Collecting gdown (from labelme)\n",
      "  Using cached gdown-5.2.0-py3-none-any.whl.metadata (5.8 kB)\n",
      "Collecting imgviz>=1.7.5 (from labelme)\n",
      "  Using cached imgviz-1.7.5-py3-none-any.whl\n",
      "Requirement already satisfied: matplotlib in c:\\users\\utkar\\appdata\\local\\programs\\python\\python312\\lib\\site-packages (from labelme) (3.9.0)\n",
      "Requirement already satisfied: natsort>=7.1.0 in c:\\users\\utkar\\appdata\\local\\programs\\python\\python312\\lib\\site-packages (from labelme) (8.4.0)\n",
      "Requirement already satisfied: numpy in c:\\users\\utkar\\appdata\\local\\programs\\python\\python312\\lib\\site-packages (from labelme) (1.26.4)\n",
      "Requirement already satisfied: onnxruntime!=1.16.0,>=1.14.1 in c:\\users\\utkar\\appdata\\local\\programs\\python\\python312\\lib\\site-packages (from labelme) (1.18.0)\n",
      "Requirement already satisfied: Pillow>=2.8 in c:\\users\\utkar\\appdata\\local\\programs\\python\\python312\\lib\\site-packages (from labelme) (10.3.0)\n",
      "Requirement already satisfied: PyYAML in c:\\users\\utkar\\appdata\\local\\programs\\python\\python312\\lib\\site-packages (from labelme) (6.0.1)\n",
      "Requirement already satisfied: qtpy!=1.11.2 in c:\\users\\utkar\\appdata\\local\\programs\\python\\python312\\lib\\site-packages (from labelme) (2.4.1)\n",
      "Requirement already satisfied: scikit-image in c:\\users\\utkar\\appdata\\local\\programs\\python\\python312\\lib\\site-packages (from labelme) (0.24.0)\n",
      "Requirement already satisfied: termcolor in c:\\users\\utkar\\appdata\\local\\programs\\python\\python312\\lib\\site-packages (from labelme) (2.4.0)\n",
      "Requirement already satisfied: PyQt5!=5.15.3,!=5.15.4 in c:\\users\\utkar\\appdata\\local\\programs\\python\\python312\\lib\\site-packages (from labelme) (5.15.10)\n",
      "Requirement already satisfied: colorama in c:\\users\\utkar\\appdata\\roaming\\python\\python312\\site-packages (from labelme) (0.4.6)\n",
      "Requirement already satisfied: coloredlogs in c:\\users\\utkar\\appdata\\local\\programs\\python\\python312\\lib\\site-packages (from onnxruntime!=1.16.0,>=1.14.1->labelme) (15.0.1)\n",
      "Requirement already satisfied: flatbuffers in c:\\users\\utkar\\appdata\\local\\programs\\python\\python312\\lib\\site-packages (from onnxruntime!=1.16.0,>=1.14.1->labelme) (24.3.25)\n",
      "Requirement already satisfied: packaging in c:\\users\\utkar\\appdata\\roaming\\python\\python312\\site-packages (from onnxruntime!=1.16.0,>=1.14.1->labelme) (24.0)\n",
      "Requirement already satisfied: protobuf in c:\\users\\utkar\\appdata\\local\\programs\\python\\python312\\lib\\site-packages (from onnxruntime!=1.16.0,>=1.14.1->labelme) (5.27.1)\n",
      "Requirement already satisfied: sympy in c:\\users\\utkar\\appdata\\local\\programs\\python\\python312\\lib\\site-packages (from onnxruntime!=1.16.0,>=1.14.1->labelme) (1.12.1)\n",
      "Requirement already satisfied: PyQt5-sip<13,>=12.13 in c:\\users\\utkar\\appdata\\local\\programs\\python\\python312\\lib\\site-packages (from PyQt5!=5.15.3,!=5.15.4->labelme) (12.13.0)\n",
      "Requirement already satisfied: PyQt5-Qt5>=5.15.2 in c:\\users\\utkar\\appdata\\local\\programs\\python\\python312\\lib\\site-packages (from PyQt5!=5.15.3,!=5.15.4->labelme) (5.15.2)\n",
      "Requirement already satisfied: beautifulsoup4 in c:\\users\\utkar\\appdata\\local\\programs\\python\\python312\\lib\\site-packages (from gdown->labelme) (4.12.3)\n",
      "Requirement already satisfied: filelock in c:\\users\\utkar\\appdata\\local\\programs\\python\\python312\\lib\\site-packages (from gdown->labelme) (3.15.1)\n",
      "Requirement already satisfied: requests[socks] in c:\\users\\utkar\\appdata\\local\\programs\\python\\python312\\lib\\site-packages (from gdown->labelme) (2.31.0)\n",
      "Requirement already satisfied: tqdm in c:\\users\\utkar\\appdata\\local\\programs\\python\\python312\\lib\\site-packages (from gdown->labelme) (4.66.4)\n",
      "Requirement already satisfied: contourpy>=1.0.1 in c:\\users\\utkar\\appdata\\local\\programs\\python\\python312\\lib\\site-packages (from matplotlib->labelme) (1.2.1)\n",
      "Requirement already satisfied: cycler>=0.10 in c:\\users\\utkar\\appdata\\local\\programs\\python\\python312\\lib\\site-packages (from matplotlib->labelme) (0.12.1)\n",
      "Requirement already satisfied: fonttools>=4.22.0 in c:\\users\\utkar\\appdata\\local\\programs\\python\\python312\\lib\\site-packages (from matplotlib->labelme) (4.53.0)\n",
      "Requirement already satisfied: kiwisolver>=1.3.1 in c:\\users\\utkar\\appdata\\local\\programs\\python\\python312\\lib\\site-packages (from matplotlib->labelme) (1.4.5)\n",
      "Requirement already satisfied: pyparsing>=2.3.1 in c:\\users\\utkar\\appdata\\local\\programs\\python\\python312\\lib\\site-packages (from matplotlib->labelme) (3.1.2)\n",
      "Requirement already satisfied: python-dateutil>=2.7 in c:\\users\\utkar\\appdata\\roaming\\python\\python312\\site-packages (from matplotlib->labelme) (2.9.0.post0)\n",
      "Requirement already satisfied: scipy>=1.9 in c:\\users\\utkar\\appdata\\local\\programs\\python\\python312\\lib\\site-packages (from scikit-image->labelme) (1.13.1)\n",
      "Requirement already satisfied: networkx>=2.8 in c:\\users\\utkar\\appdata\\local\\programs\\python\\python312\\lib\\site-packages (from scikit-image->labelme) (3.3)\n",
      "Requirement already satisfied: imageio>=2.33 in c:\\users\\utkar\\appdata\\local\\programs\\python\\python312\\lib\\site-packages (from scikit-image->labelme) (2.34.1)\n",
      "Requirement already satisfied: tifffile>=2022.8.12 in c:\\users\\utkar\\appdata\\local\\programs\\python\\python312\\lib\\site-packages (from scikit-image->labelme) (2024.6.18)\n",
      "Requirement already satisfied: lazy-loader>=0.4 in c:\\users\\utkar\\appdata\\local\\programs\\python\\python312\\lib\\site-packages (from scikit-image->labelme) (0.4)\n",
      "Requirement already satisfied: six>=1.5 in c:\\users\\utkar\\appdata\\roaming\\python\\python312\\site-packages (from python-dateutil>=2.7->matplotlib->labelme) (1.16.0)\n",
      "Requirement already satisfied: soupsieve>1.2 in c:\\users\\utkar\\appdata\\local\\programs\\python\\python312\\lib\\site-packages (from beautifulsoup4->gdown->labelme) (2.5)\n",
      "Requirement already satisfied: humanfriendly>=9.1 in c:\\users\\utkar\\appdata\\local\\programs\\python\\python312\\lib\\site-packages (from coloredlogs->onnxruntime!=1.16.0,>=1.14.1->labelme) (10.0)\n",
      "Requirement already satisfied: charset-normalizer<4,>=2 in c:\\users\\utkar\\appdata\\local\\programs\\python\\python312\\lib\\site-packages (from requests[socks]->gdown->labelme) (3.3.2)\n",
      "Requirement already satisfied: idna<4,>=2.5 in c:\\users\\utkar\\appdata\\local\\programs\\python\\python312\\lib\\site-packages (from requests[socks]->gdown->labelme) (3.6)\n",
      "Requirement already satisfied: urllib3<3,>=1.21.1 in c:\\users\\utkar\\appdata\\local\\programs\\python\\python312\\lib\\site-packages (from requests[socks]->gdown->labelme) (2.2.1)\n",
      "Requirement already satisfied: certifi>=2017.4.17 in c:\\users\\utkar\\appdata\\local\\programs\\python\\python312\\lib\\site-packages (from requests[socks]->gdown->labelme) (2024.2.2)\n",
      "Requirement already satisfied: PySocks!=1.5.7,>=1.5.6 in c:\\users\\utkar\\appdata\\local\\programs\\python\\python312\\lib\\site-packages (from requests[socks]->gdown->labelme) (1.7.1)\n",
      "Requirement already satisfied: mpmath<1.4.0,>=1.1.0 in c:\\users\\utkar\\appdata\\local\\programs\\python\\python312\\lib\\site-packages (from sympy->onnxruntime!=1.16.0,>=1.14.1->labelme) (1.3.0)\n",
      "Requirement already satisfied: pyreadline3 in c:\\users\\utkar\\appdata\\local\\programs\\python\\python312\\lib\\site-packages (from humanfriendly>=9.1->coloredlogs->onnxruntime!=1.16.0,>=1.14.1->labelme) (3.4.1)\n",
      "Using cached gdown-5.2.0-py3-none-any.whl (18 kB)\n",
      "Installing collected packages: imgviz, gdown, labelme\n",
      "Successfully installed gdown-5.2.0 imgviz-1.7.5 labelme-5.5.0\n",
      "Note: you may need to restart the kernel to use updated packages.\n"
     ]
    },
    {
     "name": "stderr",
     "output_type": "stream",
     "text": [
      "  WARNING: The script gdown.exe is installed in 'c:\\Users\\utkar\\AppData\\Local\\Programs\\Python\\Python312\\Scripts' which is not on PATH.\n",
      "  Consider adding this directory to PATH or, if you prefer to suppress this warning, use --no-warn-script-location.\n",
      "  WARNING: The scripts labelme.exe, labelme_draw_json.exe, labelme_draw_label_png.exe, labelme_export_json.exe, labelme_json_to_dataset.exe and labelme_on_docker.exe are installed in 'c:\\Users\\utkar\\AppData\\Local\\Programs\\Python\\Python312\\Scripts' which is not on PATH.\n",
      "  Consider adding this directory to PATH or, if you prefer to suppress this warning, use --no-warn-script-location.\n"
     ]
    }
   ],
   "source": [
    "pip install labelme\n"
   ]
  },
  {
   "cell_type": "code",
   "execution_count": 4,
   "metadata": {},
   "outputs": [
    {
     "ename": "ModuleNotFoundError",
     "evalue": "No module named 'labelme'",
     "output_type": "error",
     "traceback": [
      "\u001b[1;31m---------------------------------------------------------------------------\u001b[0m",
      "\u001b[1;31mModuleNotFoundError\u001b[0m                       Traceback (most recent call last)",
      "Cell \u001b[1;32mIn[4], line 1\u001b[0m\n\u001b[1;32m----> 1\u001b[0m \u001b[38;5;28;01mimport\u001b[39;00m \u001b[38;5;21;01mlabelme\u001b[39;00m\n",
      "\u001b[1;31mModuleNotFoundError\u001b[0m: No module named 'labelme'"
     ]
    }
   ],
   "source": [
    "import labelme\n"
   ]
  },
  {
   "cell_type": "code",
   "execution_count": null,
   "metadata": {},
   "outputs": [],
   "source": []
  }
 ],
 "metadata": {
  "kernelspec": {
   "display_name": "Python 3",
   "language": "python",
   "name": "python3"
  },
  "language_info": {
   "codemirror_mode": {
    "name": "ipython",
    "version": 3
   },
   "file_extension": ".py",
   "mimetype": "text/x-python",
   "name": "python",
   "nbconvert_exporter": "python",
   "pygments_lexer": "ipython3",
   "version": "3.12.4"
  }
 },
 "nbformat": 4,
 "nbformat_minor": 2
}
